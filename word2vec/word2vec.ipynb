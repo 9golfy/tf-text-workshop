{
 "cells": [
  {
   "cell_type": "code",
   "execution_count": null,
   "metadata": {
    "collapsed": true
   },
   "outputs": [],
   "source": [
    "import tensorflow as tf\n",
    "from tensorflow.contrib import layers\n",
    "from tensorflow.contrib.learn import *\n",
    "from tensorflow.contrib import seq2seq\n",
    "from tensorflow.python.estimator.inputs import numpy_io\n",
    "import pickle\n",
    "import numpy as np\n",
    "import math\n",
    "import pandas as pd\n",
    "\n",
    "tf.logging.set_verbosity(tf.logging.INFO)"
   ]
  },
  {
   "cell_type": "code",
   "execution_count": null,
   "metadata": {
    "collapsed": true
   },
   "outputs": [],
   "source": [
    "def word2vec(features, labels, mode, params):\n",
    "    target = features['target']\n",
    "\n",
    "    with tf.variable_scope(\"emb\"):\n",
    "        target_weight = tf.get_variable(\"target_w\",\n",
    "                                        initializer=tf.random_uniform([params['num_words'], params['emb_size']], -1.0,\n",
    "                                                                      1.0))\n",
    "        context_weight = tf.get_variable(\"context_w\",\n",
    "                                         initializer=tf.truncated_normal([params['num_words'], params['emb_size']]))\n",
    "        context_bias = tf.get_variable(\"context_b\", initializer=tf.zeros(params['num_words']))\n",
    "\n",
    "    target_emb = tf.nn.embedding_lookup(target_weight, target)\n",
    "    loss = tf.reduce_mean(\n",
    "        tf.nn.sampled_softmax_loss(weights=context_weight,\n",
    "                                   biases=context_bias,\n",
    "                                   labels=tf.expand_dims(labels, 1),\n",
    "                                   inputs=target_emb,\n",
    "                                   num_sampled=params['num_negative'],\n",
    "                                   num_classes=params['num_words'],\n",
    "                                   remove_accidental_hits=True))\n",
    "\n",
    "    for v in tf.trainable_variables():\n",
    "        tf.summary.histogram(v.name.replace(\":\", ''), v)\n",
    "\n",
    "    train_op = layers.optimize_loss(\n",
    "        loss=loss,\n",
    "        global_step=tf.contrib.framework.get_global_step(),\n",
    "        learning_rate=params[\"learning_rate\"],\n",
    "        optimizer=tf.train.AdagradOptimizer,\n",
    "        summaries=[\n",
    "            \"learning_rate\",\n",
    "            \"loss\",\n",
    "            \"gradients\",\n",
    "            \"gradient_norm\",\n",
    "        ])\n",
    "    return ModelFnOps(mode=mode, predictions=None, train_op=train_op, loss=loss)"
   ]
  },
  {
   "cell_type": "code",
   "execution_count": null,
   "metadata": {
    "collapsed": false,
    "scrolled": true
   },
   "outputs": [],
   "source": [
    "with open('_word2vec_data/target_list_novel', 'rb') as fp:\n",
    "    target_list = pickle.load(fp)\n",
    "with open('_word2vec_data/context_list_novel', 'rb') as fp:\n",
    "    context_list = pickle.load(fp)\n",
    "with open('_word2vec_data/indexer_novel', 'rb') as fp:\n",
    "    indexer = pickle.load(fp)\n",
    "\n",
    "x = {'target': np.array(target_list)}\n",
    "y = np.array(context_list)\n",
    "\n",
    "model_params = dict(num_words=len(indexer), emb_size=64, num_negative=64, learning_rate=1.0)\n",
    "input_fn = numpy_io.numpy_input_fn(x, y, batch_size=512, shuffle=True, num_epochs=None)\n",
    "rnn_model = Estimator(model_fn=word2vec\n",
    "                      , params=model_params\n",
    "                      , model_dir=\"model/_word2vec\"\n",
    "                      , config=RunConfig(save_checkpoints_secs=30,\n",
    "                                         keep_checkpoint_max=2))\n",
    "\n",
    "rnn_model.fit(input_fn=input_fn, steps=100000)"
   ]
  }
 ],
 "metadata": {
  "kernelspec": {
   "display_name": "Python 3",
   "language": "python",
   "name": "python3"
  },
  "language_info": {
   "codemirror_mode": {
    "name": "ipython",
    "version": 3
   },
   "file_extension": ".py",
   "mimetype": "text/x-python",
   "name": "python",
   "nbconvert_exporter": "python",
   "pygments_lexer": "ipython3",
   "version": "3.5.1"
  }
 },
 "nbformat": 4,
 "nbformat_minor": 2
}
